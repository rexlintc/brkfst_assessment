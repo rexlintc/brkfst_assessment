{
 "cells": [
  {
   "cell_type": "code",
   "execution_count": 1,
   "id": "cabcf835-0152-4b37-a46e-43a0ed3c78c6",
   "metadata": {},
   "outputs": [],
   "source": [
    "import pandas as pd\n",
    "import json\n",
    "import os"
   ]
  },
  {
   "cell_type": "code",
   "execution_count": 2,
   "id": "50784717-3020-4521-a869-6fb9dfafff2a",
   "metadata": {},
   "outputs": [],
   "source": [
    "def parse_instagram_json(file_path):\n",
    "    with open(file_path, 'r') as file:\n",
    "        data = json.load(file)\n",
    "    \n",
    "    rows = []\n",
    "    # Add the owner as a node\n",
    "    rows.append({\n",
    "        \"source\": data[\"owner_id\"],\n",
    "        \"target\": None,\n",
    "        \"type\": \"owner\",\n",
    "        \"username\": data[\"username\"],\n",
    "        \"fullname\": data[\"fullname\"],\n",
    "        \"post_id\": data[\"post_id\"],\n",
    "        \"likes\": data[\"likes\"]\n",
    "    })\n",
    "    \n",
    "    # Add tagged users as nodes and edges\n",
    "    for user in data[\"tagged_users\"]:\n",
    "        rows.append({\n",
    "            \"source\": data[\"owner_id\"],\n",
    "            \"target\": user[\"id\"],\n",
    "            \"type\": \"tagged\",\n",
    "            \"username\": user[\"username\"],\n",
    "            \"fullname\": user[\"full_name\"],\n",
    "            \"post_id\": data[\"post_id\"],\n",
    "            \"likes\": data[\"likes\"]\n",
    "        })\n",
    "    \n",
    "    return pd.DataFrame(rows)\n",
    "\n",
    "def process_all_json_files(base_path):\n",
    "    all_data = []\n",
    "    for username in os.listdir(base_path):\n",
    "        user_path = os.path.join(base_path, username)\n",
    "        if os.path.isdir(user_path):\n",
    "            for file in os.listdir(user_path):\n",
    "                if file.endswith('.json'):\n",
    "                    file_path = os.path.join(user_path, file)\n",
    "                    df = parse_instagram_json(file_path)\n",
    "                    all_data.append(df)\n",
    "    \n",
    "    return pd.concat(all_data, ignore_index=True)"
   ]
  },
  {
   "cell_type": "code",
   "execution_count": 3,
   "id": "9433c103-392a-47a1-9811-14cfa670fcc0",
   "metadata": {},
   "outputs": [],
   "source": [
    "base_path = 'scraped_data/instagram'\n",
    "combined_df = process_all_json_files(base_path)"
   ]
  },
  {
   "cell_type": "code",
   "execution_count": 6,
   "id": "d2b00917-6f0a-4f42-9329-c808e5af2741",
   "metadata": {},
   "outputs": [
    {
     "name": "stdout",
     "output_type": "stream",
     "text": [
      "Collecting pyarrow\n",
      "  Downloading pyarrow-19.0.1-cp312-cp312-macosx_12_0_arm64.whl.metadata (3.3 kB)\n",
      "Downloading pyarrow-19.0.1-cp312-cp312-macosx_12_0_arm64.whl (30.7 MB)\n",
      "\u001b[2K   \u001b[38;2;114;156;31m━━━━━━━━━━━━━━━━━━━━━━━━━━━━━━━━━━━━━━━━\u001b[0m \u001b[32m30.7/30.7 MB\u001b[0m \u001b[31m13.6 MB/s\u001b[0m eta \u001b[36m0:00:00\u001b[0mm eta \u001b[36m0:00:01\u001b[0m[36m0:00:01\u001b[0m\n",
      "Installing collected packages: pyarrow\n",
      "Successfully installed pyarrow-19.0.1\n"
     ]
    }
   ],
   "source": [
    "!pip install pyarrow"
   ]
  },
  {
   "cell_type": "code",
   "execution_count": 9,
   "id": "4bc717cc-38bb-43ef-9d98-83b11d5074d6",
   "metadata": {},
   "outputs": [],
   "source": [
    "combined_df.to_parquet('parsed_data/network_graph_data.parquet')"
   ]
  }
 ],
 "metadata": {
  "kernelspec": {
   "display_name": "Python 3 (ipykernel)",
   "language": "python",
   "name": "python3"
  },
  "language_info": {
   "codemirror_mode": {
    "name": "ipython",
    "version": 3
   },
   "file_extension": ".py",
   "mimetype": "text/x-python",
   "name": "python",
   "nbconvert_exporter": "python",
   "pygments_lexer": "ipython3",
   "version": "3.12.9"
  }
 },
 "nbformat": 4,
 "nbformat_minor": 5
}
