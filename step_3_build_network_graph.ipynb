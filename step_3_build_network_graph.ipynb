{
 "cells": [
  {
   "cell_type": "code",
   "execution_count": 1,
   "id": "16924a1e-beba-4e55-a47d-85ecd9bcfb13",
   "metadata": {},
   "outputs": [],
   "source": [
    "import pandas as pd"
   ]
  },
  {
   "cell_type": "code",
   "execution_count": 2,
   "id": "a816a74c-58b9-4420-a6da-b0eb92114d40",
   "metadata": {},
   "outputs": [],
   "source": [
    "network_graph_data_df = pd.read_parquet('parsed_data/network_graph_data.parquet')"
   ]
  },
  {
   "cell_type": "code",
   "execution_count": null,
   "id": "04d2fb2f-36f1-400a-b45e-4bff2376f27b",
   "metadata": {},
   "outputs": [],
   "source": [
    "            \"source\": data[\"owner_id\"],\n",
    "            \"target\": user[\"id\"],\n",
    "            \"type\": \"tagged\",\n",
    "            \"username\": user[\"username\"],\n",
    "            \"fullname\": user[\"full_name\"],\n",
    "            \"post_id\": data[\"post_id\"],\n",
    "            \"likes\": data[\"likes\"]"
   ]
  },
  {
   "cell_type": "code",
   "execution_count": null,
   "id": "a43e388b-502e-4f37-b993-079688339268",
   "metadata": {},
   "outputs": [],
   "source": [
    "import networkx as nx\n",
    "import matplotlib.pyplot as plt\n",
    "\n",
    "# Create a new graph\n",
    "G = nx.Graph()\n",
    "\n",
    "# Add nodes\n",
    "for index, row in network_graph_data_df.iterrows():\n",
    "    if row['target'] is None:\n",
    "        G.add_node(row['source'], username=row['username'], likes=row['likes'])\n",
    "    else:\n",
    "        G.add_node(row['target'], username=row['username'])\n",
    "        G.add_edge(network_graph_data[\n",
    "\n",
    "\n",
    "# Set up the plot\n",
    "plt.figure(figsize=(10, 8))\n",
    "pos = nx.spring_layout(G)\n",
    "\n",
    "# Draw nodes\n",
    "nx.draw_networkx_nodes(G, pos, node_color=['red' if G.nodes[node]['type'] == 'owner' else 'blue' for node in G.nodes])\n",
    "\n",
    "# Draw edges\n",
    "nx.draw_networkx_edges(G, pos)\n",
    "\n",
    "# Add labels\n",
    "nx.draw_networkx_labels(G, pos, {node: G.nodes[node]['label'] for node in G.nodes})\n",
    "\n",
    "# Set title\n",
    "plt.title(\"Instagram Post Network\")\n",
    "\n",
    "# Remove axis\n",
    "plt.axis('off')\n",
    "\n",
    "# Show the plot\n",
    "plt.tight_layout()\n",
    "plt.show()\n"
   ]
  }
 ],
 "metadata": {
  "kernelspec": {
   "display_name": "Python 3 (ipykernel)",
   "language": "python",
   "name": "python3"
  },
  "language_info": {
   "codemirror_mode": {
    "name": "ipython",
    "version": 3
   },
   "file_extension": ".py",
   "mimetype": "text/x-python",
   "name": "python",
   "nbconvert_exporter": "python",
   "pygments_lexer": "ipython3",
   "version": "3.12.9"
  }
 },
 "nbformat": 4,
 "nbformat_minor": 5
}
